{
 "cells": [
  {
   "cell_type": "markdown",
   "id": "c8d1b295",
   "metadata": {},
   "source": [
    "# Proyecto 1 - Stacking con 10 Modelos Bases y con XGB como Selector y  Meta-Modelo"
   ]
  },
  {
   "cell_type": "code",
   "execution_count": null,
   "id": "61259eff",
   "metadata": {},
   "outputs": [],
   "source": [
    "import pandas as pd\n",
    "import numpy as np\n",
    "from sklearn.ensemble import RandomForestRegressor, GradientBoostingRegressor, ExtraTreesRegressor, StackingRegressor, BaggingRegressor\n",
    "from xgboost import XGBRegressor\n",
    "from sklearn.model_selection import train_test_split\n",
    "from sklearn.feature_selection import SelectFromModel\n",
    "from sklearn.preprocessing import LabelEncoder\n",
    "from sklearn.metrics import mean_squared_error\n",
    "from lightgbm import LGBMRegressor\n",
    "from catboost import CatBoostRegressor\n",
    "from sklearn.preprocessing import RobustScaler\n",
    "from sklearn.linear_model import ElasticNetCV, RidgeCV, LassoCV, Ridge, Lasso\n",
    "from sklearn.neighbors import KNeighborsRegressor\n",
    "from sklearn.svm import SVR\n",
    "from sklearn.model_selection import KFold"
   ]
  },
  {
   "cell_type": "code",
   "execution_count": null,
   "id": "04e0b912",
   "metadata": {},
   "outputs": [],
   "source": [
    "#  Cargar datasets\n",
    "url_train = 'https://raw.githubusercontent.com/davidzarruk/MIAD_ML_NLP_2025/main/datasets/dataTrain_Spotify.csv'\n",
    "url_test = 'https://raw.githubusercontent.com/davidzarruk/MIAD_ML_NLP_2025/main/datasets/dataTest_Spotify.csv'\n",
    "\n",
    "dataTrain = pd.read_csv(url_train)\n",
    "dataTest = pd.read_csv(url_test, index_col=0)\n"
   ]
  },
  {
   "cell_type": "code",
   "execution_count": 17,
   "id": "de5951d7",
   "metadata": {},
   "outputs": [
    {
     "name": "stdout",
     "output_type": "stream",
     "text": [
      "Memoria antes: 21.21 MB\n",
      "Memoria después: 21.21 MB\n",
      "Reducción: 0.00%\n"
     ]
    }
   ],
   "source": [
    "# Memoria antes de optimización\n",
    "mem_before = dataTrain.memory_usage(deep=True).sum() / 1024**2  # en MB\n",
    "\n",
    "# Optimizar tipos de datos\n",
    "for col in dataTrain.columns:\n",
    "    col_type = dataTrain[col].dtype\n",
    "\n",
    "    if col_type == 'float64':\n",
    "        dataTrain[col] = dataTrain[col].astype('float32')\n",
    "    elif col_type == 'int64':\n",
    "        dataTrain[col] = dataTrain[col].astype('int32')\n",
    "    elif col_type == 'bool':\n",
    "        dataTrain[col] = dataTrain[col].astype('int8')  # más compacto\n",
    "    elif col_type == 'object':\n",
    "        num_unique_values = dataTrain[col].nunique()\n",
    "        num_total_values = len(dataTrain[col])\n",
    "        if num_unique_values / num_total_values < 0.5:\n",
    "            dataTrain[col] = dataTrain[col].astype('category')\n",
    "\n",
    "# Memoria después de optimización\n",
    "mem_after = dataTrain.memory_usage(deep=True).sum() / 1024**2  # en MB\n",
    "\n",
    "print(f'Memoria antes: {mem_before:.2f} MB')\n",
    "print(f'Memoria después: {mem_after:.2f} MB')\n",
    "print(f'Reducción: {100 * (mem_before - mem_after) / mem_before:.2f}%')"
   ]
  },
  {
   "cell_type": "code",
   "execution_count": null,
   "id": "85f10ce4",
   "metadata": {},
   "outputs": [],
   "source": [
    "#Prepocesamiento de datos\n",
    "\n",
    "\n",
    "# Eliminar columnas innecesarias\n",
    "for col in ['Unnamed: 0']:\n",
    "    if col in dataTrain.columns: dataTrain.drop(columns=col, inplace=True)\n",
    "    if col in dataTest.columns: dataTest.drop(columns=col, inplace=True)\n",
    "\n",
    "# Codificar columnas categóricas\n",
    "for col in ['artists', 'album_name', 'track_genre']:\n",
    "    combined = pd.concat([dataTrain[col], dataTest[col]], axis=0).astype(str)\n",
    "    encoder = LabelEncoder().fit(combined)\n",
    "    dataTrain[col + '_n'] = encoder.transform(dataTrain[col].astype(str))\n",
    "    dataTest[col + '_n'] = encoder.transform(dataTest[col].astype(str))\n",
    "\n",
    "# Nuevas características\n",
    "for df in [dataTrain, dataTest]:\n",
    "    df['track_name_length'] = df['track_name'].apply(lambda x: len(str(x)))\n",
    "    df['explicit'] = df['explicit'].astype(int)\n",
    "    df['tempo_density'] = df['tempo'] / df['duration_ms']\n",
    "    df['energy_danceability'] = df['energy'] * df['danceability']\n",
    "    df['acousticness_bin'] = (df['acousticness'] > 0.5).astype(int)\n"
   ]
  },
  {
   "cell_type": "code",
   "execution_count": null,
   "id": "89a332d3",
   "metadata": {},
   "outputs": [],
   "source": [
    "#  Selección de columnas y escalado\n",
    "drop_cols = ['track_id', 'track_name', 'artists', 'album_name', 'track_genre']\n",
    "features = dataTrain.drop(columns=drop_cols + ['popularity']).columns.tolist()\n",
    "\n",
    "# Reemplazar valores infinitos por NaN y luego llenar NaN con la mediana\n",
    "for df in [dataTrain, dataTest]:\n",
    "    df.replace([np.inf, -np.inf], np.nan, inplace=True)\n",
    "    df.fillna(df.median(numeric_only=True), inplace=True)\n"
   ]
  },
  {
   "cell_type": "code",
   "execution_count": null,
   "id": "e04e906e",
   "metadata": {},
   "outputs": [],
   "source": [
    "# Escalado de datos\n",
    "scaler = RobustScaler()\n",
    "train_scaled = scaler.fit_transform(dataTrain[features])\n",
    "test_scaled = scaler.transform(dataTest[features])\n",
    "y = dataTrain['popularity']"
   ]
  },
  {
   "cell_type": "code",
   "execution_count": null,
   "id": "ca3b083b",
   "metadata": {},
   "outputs": [],
   "source": [
    "# Selección de características con XGBRegressor\n",
    "selector = SelectFromModel(XGBRegressor(n_estimators=100, random_state=42))\n",
    "selector.fit(train_scaled, y)\n",
    "X_sel = selector.transform(train_scaled)\n",
    "X_test_sel = selector.transform(test_scaled)\n"
   ]
  },
  {
   "cell_type": "code",
   "execution_count": null,
   "id": "0b8b8104",
   "metadata": {},
   "outputs": [],
   "source": [
    "# Dividir el conjunto de datos en entrenamiento y validación\n",
    "X_train, X_val, y_train, y_val = train_test_split(X_sel, y, test_size=0.2, random_state=42)\n"
   ]
  },
  {
   "cell_type": "code",
   "execution_count": null,
   "id": "8d564fa9",
   "metadata": {},
   "outputs": [],
   "source": [
    "# Modelos base\n",
    "\n",
    "base_models = [\n",
    "    ('svr', SVR(kernel='rbf', C=10, epsilon=0.2)),\n",
    "    ('rf', RandomForestRegressor(n_estimators=200, max_depth=30, random_state=42)),\n",
    "    ('gb', GradientBoostingRegressor(n_estimators=200, max_depth=10, random_state=42)),\n",
    "    ('et', ExtraTreesRegressor(n_estimators=200, max_depth=30, random_state=42)),\n",
    "    ('bag', BaggingRegressor(n_estimators=200, max_samples=0.8, max_features=0.8, random_state=42)),\n",
    "    ('xgb', XGBRegressor(n_estimators=200, learning_rate=0.075, max_depth=10, random_state=42)),\n",
    "    ('lgbm', LGBMRegressor(n_estimators=100, learning_rate=0.075, max_depth=10, random_state=42)),\n",
    "    ('catboost', CatBoostRegressor(iterations=100, depth=10, learning_rate=0.075, random_seed=42, verbose=False)),\n",
    "    ('elasticnet', ElasticNetCV(cv=5)),\n",
    "    ('ridge', RidgeCV()),\n",
    "    ('lasso', LassoCV()),\n",
    "    ('knn', KNeighborsRegressor(n_neighbors=5))\n",
    "]\n",
    "\n"
   ]
  },
  {
   "cell_type": "code",
   "execution_count": null,
   "id": "2342378f",
   "metadata": {},
   "outputs": [],
   "source": [
    "# Ensamblaje de modelos\n",
    "\n",
    "# Estrategia de validación cruzada\n",
    "cv_strategy = KFold(n_splits=10, shuffle=True, random_state=42)\n",
    "\n",
    "# Crear el modelo de apilamiento\n",
    "stacking_model = StackingRegressor(\n",
    "    estimators=base_models,\n",
    "    final_estimator=XGBRegressor(n_estimators=200, learning_rate=0.075, max_depth=10, random_state=42),\n",
    "    passthrough=True,\n",
    "    n_jobs=-1,\n",
    "    cv=cv_strategy\n",
    ")"
   ]
  },
  {
   "cell_type": "code",
   "execution_count": null,
   "id": "431b771b",
   "metadata": {},
   "outputs": [
    {
     "name": "stdout",
     "output_type": "stream",
     "text": [
      "RMSE validación local: 11.06196\n"
     ]
    },
    {
     "name": "stderr",
     "output_type": "stream",
     "text": [
      "c:\\Users\\USER\\anaconda3\\Lib\\site-packages\\sklearn\\metrics\\_regression.py:492: FutureWarning: 'squared' is deprecated in version 1.4 and will be removed in 1.6. To calculate the root mean squared error, use the function'root_mean_squared_error'.\n",
      "  warnings.warn(\n"
     ]
    }
   ],
   "source": [
    "# Ajustar y predecir en el conjunto de validación\n",
    "stacking_model.fit(X_train, y_train)\n",
    "y_pred = stacking_model.predict(X_val)\n",
    "rmse = mean_squared_error(y_val, y_pred, squared=False)\n",
    "print(f\"RMSE validación local: {rmse:.5f}\")"
   ]
  },
  {
   "cell_type": "code",
   "execution_count": null,
   "id": "903e4b16",
   "metadata": {},
   "outputs": [
    {
     "data": {
      "text/html": [
       "<div>\n",
       "<style scoped>\n",
       "    .dataframe tbody tr th:only-of-type {\n",
       "        vertical-align: middle;\n",
       "    }\n",
       "\n",
       "    .dataframe tbody tr th {\n",
       "        vertical-align: top;\n",
       "    }\n",
       "\n",
       "    .dataframe thead th {\n",
       "        text-align: right;\n",
       "    }\n",
       "</style>\n",
       "<table border=\"1\" class=\"dataframe\">\n",
       "  <thead>\n",
       "    <tr style=\"text-align: right;\">\n",
       "      <th></th>\n",
       "      <th>ID</th>\n",
       "      <th>popularity</th>\n",
       "    </tr>\n",
       "  </thead>\n",
       "  <tbody>\n",
       "    <tr>\n",
       "      <th>0</th>\n",
       "      <td>0</td>\n",
       "      <td>39.420914</td>\n",
       "    </tr>\n",
       "    <tr>\n",
       "      <th>1</th>\n",
       "      <td>1</td>\n",
       "      <td>13.463353</td>\n",
       "    </tr>\n",
       "    <tr>\n",
       "      <th>2</th>\n",
       "      <td>2</td>\n",
       "      <td>4.754846</td>\n",
       "    </tr>\n",
       "    <tr>\n",
       "      <th>3</th>\n",
       "      <td>3</td>\n",
       "      <td>0.826673</td>\n",
       "    </tr>\n",
       "    <tr>\n",
       "      <th>4</th>\n",
       "      <td>4</td>\n",
       "      <td>25.499201</td>\n",
       "    </tr>\n",
       "  </tbody>\n",
       "</table>\n",
       "</div>"
      ],
      "text/plain": [
       "   ID  popularity\n",
       "0   0   39.420914\n",
       "1   1   13.463353\n",
       "2   2    4.754846\n",
       "3   3    0.826673\n",
       "4   4   25.499201"
      ]
     },
     "execution_count": 31,
     "metadata": {},
     "output_type": "execute_result"
    }
   ],
   "source": [
    "# Predicción en el conjunto de prueba\n",
    "test_pred = np.clip(stacking_model.predict(X_test_sel), 0, 100)\n",
    "\n",
    "# Guardar la predicción en un archivo CSV para Kaggle\n",
    "submission = pd.DataFrame({'ID': dataTest.index, 'popularity': test_pred})\n",
    "submission.to_csv('test_submission_file8.csv', index=False)\n",
    "submission.head()\n"
   ]
  }
 ],
 "metadata": {
  "kernelspec": {
   "display_name": "base",
   "language": "python",
   "name": "python3"
  },
  "language_info": {
   "codemirror_mode": {
    "name": "ipython",
    "version": 3
   },
   "file_extension": ".py",
   "mimetype": "text/x-python",
   "name": "python",
   "nbconvert_exporter": "python",
   "pygments_lexer": "ipython3",
   "version": "3.12.7"
  }
 },
 "nbformat": 4,
 "nbformat_minor": 5
}
